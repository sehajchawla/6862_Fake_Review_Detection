{
 "cells": [
  {
   "cell_type": "markdown",
   "metadata": {
    "id": "e9K50XFOpn-g"
   },
   "source": [
    "# Metadata Modelling\n",
    "\n",
    "This notebook starts from the processed features of the review metadata, as well as the scores from the LSTM and FFNN models from the text modelling notebook. It then tries to use three simple classification models to try and achieve the task of predicting fake reviews. The three models are:\n",
    "1. Logistic Regression\n",
    "2. Multi-layered Perceptron Classifier\n",
    "3. Random Forests Classifier\n",
    "\n",
    "This notebook also looks at some of the metrics for each of the models and analyses their performance."
   ]
  },
  {
   "cell_type": "code",
   "execution_count": 2,
   "metadata": {
    "colab": {
     "base_uri": "https://localhost:8080/"
    },
    "id": "rRDGsP0lqIZ1",
    "outputId": "d2715da6-a7ad-4e7b-8db4-cad84864faf1"
   },
   "outputs": [
    {
     "name": "stdout",
     "output_type": "stream",
     "text": [
      "Mounted at /content/drive\n"
     ]
    }
   ],
   "source": [
    "from google.colab import drive\n",
    "drive.mount('/content/drive')"
   ]
  },
  {
   "cell_type": "code",
   "execution_count": 3,
   "metadata": {
    "collapsed": true,
    "id": "hgGlw0B4q8mk"
   },
   "outputs": [],
   "source": [
    "# importing the necessary libraries\n",
    "import pandas as pd\n",
    "import numpy as np\n",
    "import sklearn"
   ]
  },
  {
   "cell_type": "markdown",
   "metadata": {
    "id": "A2B_02vrpn-0"
   },
   "source": [
    "** Reading and processing data**"
   ]
  },
  {
   "cell_type": "code",
   "execution_count": 4,
   "metadata": {
    "colab": {
     "base_uri": "https://localhost:8080/",
     "height": 547
    },
    "id": "udbtaLBYrJgP",
    "outputId": "700307d9-53c8-450b-d879-636d2c0385c8"
   },
   "outputs": [
    {
     "data": {
      "text/html": [
       "<div>\n",
       "<style scoped>\n",
       "    .dataframe tbody tr th:only-of-type {\n",
       "        vertical-align: middle;\n",
       "    }\n",
       "\n",
       "    .dataframe tbody tr th {\n",
       "        vertical-align: top;\n",
       "    }\n",
       "\n",
       "    .dataframe thead th {\n",
       "        text-align: right;\n",
       "    }\n",
       "</style>\n",
       "<table border=\"1\" class=\"dataframe\">\n",
       "  <thead>\n",
       "    <tr style=\"text-align: right;\">\n",
       "      <th></th>\n",
       "      <th>Unnamed: 0</th>\n",
       "      <th>Unnamed: 0.1</th>\n",
       "      <th>ID</th>\n",
       "      <th>date</th>\n",
       "      <th>restaurantID</th>\n",
       "      <th>userID</th>\n",
       "      <th>reviewText</th>\n",
       "      <th>restaurant</th>\n",
       "      <th>fakeLabel</th>\n",
       "      <th>rating</th>\n",
       "      <th>lstm_predict_probas</th>\n",
       "      <th>ffnn_predict_probas</th>\n",
       "    </tr>\n",
       "  </thead>\n",
       "  <tbody>\n",
       "    <tr>\n",
       "      <th>0</th>\n",
       "      <td>0</td>\n",
       "      <td>1</td>\n",
       "      <td>0.0</td>\n",
       "      <td>2014-11-16</td>\n",
       "      <td>0</td>\n",
       "      <td>5044.0</td>\n",
       "      <td>Drinks were bad, the hot chocolate was watered...</td>\n",
       "      <td>Toast</td>\n",
       "      <td>-1</td>\n",
       "      <td>1</td>\n",
       "      <td>0.226938</td>\n",
       "      <td>0.272508</td>\n",
       "    </tr>\n",
       "    <tr>\n",
       "      <th>1</th>\n",
       "      <td>1</td>\n",
       "      <td>2</td>\n",
       "      <td>1.0</td>\n",
       "      <td>2014-09-08</td>\n",
       "      <td>0</td>\n",
       "      <td>5045.0</td>\n",
       "      <td>This was the worst experience I've ever had a ...</td>\n",
       "      <td>Toast</td>\n",
       "      <td>-1</td>\n",
       "      <td>1</td>\n",
       "      <td>0.419023</td>\n",
       "      <td>0.222183</td>\n",
       "    </tr>\n",
       "    <tr>\n",
       "      <th>2</th>\n",
       "      <td>2</td>\n",
       "      <td>3</td>\n",
       "      <td>2.0</td>\n",
       "      <td>2013-10-06</td>\n",
       "      <td>0</td>\n",
       "      <td>5046.0</td>\n",
       "      <td>This is located on the site of the old Spruce ...</td>\n",
       "      <td>Toast</td>\n",
       "      <td>-1</td>\n",
       "      <td>3</td>\n",
       "      <td>0.318059</td>\n",
       "      <td>0.222183</td>\n",
       "    </tr>\n",
       "    <tr>\n",
       "      <th>3</th>\n",
       "      <td>3</td>\n",
       "      <td>4</td>\n",
       "      <td>3.0</td>\n",
       "      <td>2014-11-30</td>\n",
       "      <td>0</td>\n",
       "      <td>5047.0</td>\n",
       "      <td>I enjoyed coffee and breakfast twice at Toast ...</td>\n",
       "      <td>Toast</td>\n",
       "      <td>-1</td>\n",
       "      <td>5</td>\n",
       "      <td>0.057116</td>\n",
       "      <td>0.222183</td>\n",
       "    </tr>\n",
       "    <tr>\n",
       "      <th>4</th>\n",
       "      <td>4</td>\n",
       "      <td>5</td>\n",
       "      <td>4.0</td>\n",
       "      <td>2014-08-28</td>\n",
       "      <td>0</td>\n",
       "      <td>5048.0</td>\n",
       "      <td>I love Toast! The food choices are fantastic -...</td>\n",
       "      <td>Toast</td>\n",
       "      <td>-1</td>\n",
       "      <td>5</td>\n",
       "      <td>0.066041</td>\n",
       "      <td>0.214755</td>\n",
       "    </tr>\n",
       "  </tbody>\n",
       "</table>\n",
       "</div>"
      ],
      "text/plain": [
       "   Unnamed: 0  Unnamed: 0.1  ...  lstm_predict_probas ffnn_predict_probas\n",
       "0           0             1  ...             0.226938            0.272508\n",
       "1           1             2  ...             0.419023            0.222183\n",
       "2           2             3  ...             0.318059            0.222183\n",
       "3           3             4  ...             0.057116            0.222183\n",
       "4           4             5  ...             0.066041            0.214755\n",
       "\n",
       "[5 rows x 12 columns]"
      ]
     },
     "execution_count": 4,
     "metadata": {
      "tags": []
     },
     "output_type": "execute_result"
    }
   ],
   "source": [
    "df_data1 = pd.read_csv(\"/content/drive/MyDrive/Colab Notebooks/6862_project/yelp_with_text_preds.csv\", encoding=\"ISO-8859-1\")\n",
    "df_data1.head()"
   ]
  },
  {
   "cell_type": "code",
   "execution_count": 5,
   "metadata": {
    "colab": {
     "base_uri": "https://localhost:8080/",
     "height": 204
    },
    "id": "dCPNu6OJra3Y",
    "outputId": "40b53938-b2d2-4139-e224-4d10f5cd4d4c"
   },
   "outputs": [
    {
     "data": {
      "text/html": [
       "<div>\n",
       "<style scoped>\n",
       "    .dataframe tbody tr th:only-of-type {\n",
       "        vertical-align: middle;\n",
       "    }\n",
       "\n",
       "    .dataframe tbody tr th {\n",
       "        vertical-align: top;\n",
       "    }\n",
       "\n",
       "    .dataframe thead th {\n",
       "        text-align: right;\n",
       "    }\n",
       "</style>\n",
       "<table border=\"1\" class=\"dataframe\">\n",
       "  <thead>\n",
       "    <tr style=\"text-align: right;\">\n",
       "      <th></th>\n",
       "      <th>Unnamed: 0</th>\n",
       "      <th>date</th>\n",
       "      <th>fakeLabel</th>\n",
       "      <th>rating</th>\n",
       "      <th>wordCount</th>\n",
       "      <th>sentimentVADER</th>\n",
       "      <th>sentimentBLOB</th>\n",
       "      <th>VaderPosNeg</th>\n",
       "      <th>BlobPosNeg</th>\n",
       "    </tr>\n",
       "  </thead>\n",
       "  <tbody>\n",
       "    <tr>\n",
       "      <th>0</th>\n",
       "      <td>1</td>\n",
       "      <td>2014-11-16</td>\n",
       "      <td>1</td>\n",
       "      <td>1</td>\n",
       "      <td>36</td>\n",
       "      <td>-0.9370</td>\n",
       "      <td>-0.399259</td>\n",
       "      <td>0</td>\n",
       "      <td>0</td>\n",
       "    </tr>\n",
       "    <tr>\n",
       "      <th>1</th>\n",
       "      <td>2</td>\n",
       "      <td>2014-09-08</td>\n",
       "      <td>1</td>\n",
       "      <td>1</td>\n",
       "      <td>248</td>\n",
       "      <td>0.8918</td>\n",
       "      <td>0.024830</td>\n",
       "      <td>1</td>\n",
       "      <td>1</td>\n",
       "    </tr>\n",
       "    <tr>\n",
       "      <th>2</th>\n",
       "      <td>3</td>\n",
       "      <td>2013-10-06</td>\n",
       "      <td>1</td>\n",
       "      <td>3</td>\n",
       "      <td>50</td>\n",
       "      <td>0.9244</td>\n",
       "      <td>0.296481</td>\n",
       "      <td>1</td>\n",
       "      <td>1</td>\n",
       "    </tr>\n",
       "    <tr>\n",
       "      <th>3</th>\n",
       "      <td>4</td>\n",
       "      <td>2014-11-30</td>\n",
       "      <td>1</td>\n",
       "      <td>5</td>\n",
       "      <td>233</td>\n",
       "      <td>0.9952</td>\n",
       "      <td>0.385227</td>\n",
       "      <td>1</td>\n",
       "      <td>1</td>\n",
       "    </tr>\n",
       "    <tr>\n",
       "      <th>4</th>\n",
       "      <td>5</td>\n",
       "      <td>2014-08-28</td>\n",
       "      <td>1</td>\n",
       "      <td>5</td>\n",
       "      <td>152</td>\n",
       "      <td>0.9940</td>\n",
       "      <td>0.174829</td>\n",
       "      <td>1</td>\n",
       "      <td>1</td>\n",
       "    </tr>\n",
       "  </tbody>\n",
       "</table>\n",
       "</div>"
      ],
      "text/plain": [
       "   Unnamed: 0        date  fakeLabel  ...  sentimentBLOB  VaderPosNeg  BlobPosNeg\n",
       "0           1  2014-11-16          1  ...      -0.399259            0           0\n",
       "1           2  2014-09-08          1  ...       0.024830            1           1\n",
       "2           3  2013-10-06          1  ...       0.296481            1           1\n",
       "3           4  2014-11-30          1  ...       0.385227            1           1\n",
       "4           5  2014-08-28          1  ...       0.174829            1           1\n",
       "\n",
       "[5 rows x 9 columns]"
      ]
     },
     "execution_count": 5,
     "metadata": {
      "tags": []
     },
     "output_type": "execute_result"
    }
   ],
   "source": [
    "df_data2 = pd.read_csv(\"/content/drive/MyDrive/Colab Notebooks/6862_project/yelp_processed_metadata.csv\", encoding=\"ISO-8859-1\")\n",
    "df_data2.head()"
   ]
  },
  {
   "cell_type": "markdown",
   "metadata": {
    "id": "Dx6iaEIHpn-5"
   },
   "source": [
    "Combining the results from the text modelling notebook and the review metadata."
   ]
  },
  {
   "cell_type": "code",
   "execution_count": 6,
   "metadata": {
    "colab": {
     "base_uri": "https://localhost:8080/",
     "height": 734
    },
    "id": "2Q8gJE5IrnZL",
    "outputId": "c1358c1a-2e43-4533-e633-96d2228f1ac2"
   },
   "outputs": [
    {
     "name": "stderr",
     "output_type": "stream",
     "text": [
      "/usr/local/lib/python3.7/dist-packages/ipykernel_launcher.py:2: SettingWithCopyWarning: \n",
      "A value is trying to be set on a copy of a slice from a DataFrame.\n",
      "Try using .loc[row_indexer,col_indexer] = value instead\n",
      "\n",
      "See the caveats in the documentation: https://pandas.pydata.org/pandas-docs/stable/user_guide/indexing.html#returning-a-view-versus-a-copy\n",
      "  \n",
      "/usr/local/lib/python3.7/dist-packages/ipykernel_launcher.py:3: SettingWithCopyWarning: \n",
      "A value is trying to be set on a copy of a slice from a DataFrame.\n",
      "Try using .loc[row_indexer,col_indexer] = value instead\n",
      "\n",
      "See the caveats in the documentation: https://pandas.pydata.org/pandas-docs/stable/user_guide/indexing.html#returning-a-view-versus-a-copy\n",
      "  This is separate from the ipykernel package so we can avoid doing imports until\n",
      "/usr/local/lib/python3.7/dist-packages/ipykernel_launcher.py:4: SettingWithCopyWarning: \n",
      "A value is trying to be set on a copy of a slice from a DataFrame.\n",
      "Try using .loc[row_indexer,col_indexer] = value instead\n",
      "\n",
      "See the caveats in the documentation: https://pandas.pydata.org/pandas-docs/stable/user_guide/indexing.html#returning-a-view-versus-a-copy\n",
      "  after removing the cwd from sys.path.\n",
      "/usr/local/lib/python3.7/dist-packages/ipykernel_launcher.py:5: SettingWithCopyWarning: \n",
      "A value is trying to be set on a copy of a slice from a DataFrame.\n",
      "Try using .loc[row_indexer,col_indexer] = value instead\n",
      "\n",
      "See the caveats in the documentation: https://pandas.pydata.org/pandas-docs/stable/user_guide/indexing.html#returning-a-view-versus-a-copy\n",
      "  \"\"\"\n",
      "/usr/local/lib/python3.7/dist-packages/ipykernel_launcher.py:6: SettingWithCopyWarning: \n",
      "A value is trying to be set on a copy of a slice from a DataFrame.\n",
      "Try using .loc[row_indexer,col_indexer] = value instead\n",
      "\n",
      "See the caveats in the documentation: https://pandas.pydata.org/pandas-docs/stable/user_guide/indexing.html#returning-a-view-versus-a-copy\n",
      "  \n"
     ]
    },
    {
     "data": {
      "text/html": [
       "<div>\n",
       "<style scoped>\n",
       "    .dataframe tbody tr th:only-of-type {\n",
       "        vertical-align: middle;\n",
       "    }\n",
       "\n",
       "    .dataframe tbody tr th {\n",
       "        vertical-align: top;\n",
       "    }\n",
       "\n",
       "    .dataframe thead th {\n",
       "        text-align: right;\n",
       "    }\n",
       "</style>\n",
       "<table border=\"1\" class=\"dataframe\">\n",
       "  <thead>\n",
       "    <tr style=\"text-align: right;\">\n",
       "      <th></th>\n",
       "      <th>rating</th>\n",
       "      <th>lstm_predict_probas</th>\n",
       "      <th>ffnn_predict_probas</th>\n",
       "      <th>fakeLabel</th>\n",
       "      <th>wordCount</th>\n",
       "      <th>sentimentVADER</th>\n",
       "      <th>sentimentBLOB</th>\n",
       "    </tr>\n",
       "  </thead>\n",
       "  <tbody>\n",
       "    <tr>\n",
       "      <th>0</th>\n",
       "      <td>1</td>\n",
       "      <td>0.226938</td>\n",
       "      <td>0.272508</td>\n",
       "      <td>1</td>\n",
       "      <td>36</td>\n",
       "      <td>-0.9370</td>\n",
       "      <td>-0.399259</td>\n",
       "    </tr>\n",
       "    <tr>\n",
       "      <th>1</th>\n",
       "      <td>1</td>\n",
       "      <td>0.419023</td>\n",
       "      <td>0.222183</td>\n",
       "      <td>1</td>\n",
       "      <td>248</td>\n",
       "      <td>0.8918</td>\n",
       "      <td>0.024830</td>\n",
       "    </tr>\n",
       "    <tr>\n",
       "      <th>2</th>\n",
       "      <td>3</td>\n",
       "      <td>0.318059</td>\n",
       "      <td>0.222183</td>\n",
       "      <td>1</td>\n",
       "      <td>50</td>\n",
       "      <td>0.9244</td>\n",
       "      <td>0.296481</td>\n",
       "    </tr>\n",
       "    <tr>\n",
       "      <th>3</th>\n",
       "      <td>5</td>\n",
       "      <td>0.057116</td>\n",
       "      <td>0.222183</td>\n",
       "      <td>1</td>\n",
       "      <td>233</td>\n",
       "      <td>0.9952</td>\n",
       "      <td>0.385227</td>\n",
       "    </tr>\n",
       "    <tr>\n",
       "      <th>4</th>\n",
       "      <td>5</td>\n",
       "      <td>0.066041</td>\n",
       "      <td>0.214755</td>\n",
       "      <td>1</td>\n",
       "      <td>152</td>\n",
       "      <td>0.9940</td>\n",
       "      <td>0.174829</td>\n",
       "    </tr>\n",
       "  </tbody>\n",
       "</table>\n",
       "</div>"
      ],
      "text/plain": [
       "   rating  lstm_predict_probas  ...  sentimentVADER  sentimentBLOB\n",
       "0       1             0.226938  ...         -0.9370      -0.399259\n",
       "1       1             0.419023  ...          0.8918       0.024830\n",
       "2       3             0.318059  ...          0.9244       0.296481\n",
       "3       5             0.057116  ...          0.9952       0.385227\n",
       "4       5             0.066041  ...          0.9940       0.174829\n",
       "\n",
       "[5 rows x 7 columns]"
      ]
     },
     "execution_count": 6,
     "metadata": {
      "tags": []
     },
     "output_type": "execute_result"
    }
   ],
   "source": [
    "df_combined = df_data1[['rating', 'lstm_predict_probas', 'ffnn_predict_probas']]\n",
    "df_combined['fakeLabel'] = df_data2['fakeLabel']\n",
    "df_combined['rating'] = df_data2['rating']\n",
    "df_combined['wordCount'] = df_data2['wordCount']\n",
    "df_combined['sentimentVADER'] = df_data2['sentimentVADER']\n",
    "df_combined['sentimentBLOB'] = df_data2['sentimentBLOB']\n",
    "df_combined.head()"
   ]
  },
  {
   "cell_type": "markdown",
   "metadata": {
    "id": "LRRG7R51pn-7"
   },
   "source": [
    "Splitting the data into input, output, train and test data."
   ]
  },
  {
   "cell_type": "code",
   "execution_count": 7,
   "metadata": {
    "collapsed": true,
    "id": "Yj9Alv9GsVjX"
   },
   "outputs": [],
   "source": [
    "X = df_combined[['rating', 'lstm_predict_probas', 'ffnn_predict_probas', 'wordCount', 'sentimentVADER', 'sentimentBLOB']]\n",
    "y = df_combined['fakeLabel']\n",
    "\n",
    "from sklearn.model_selection import train_test_split\n",
    "X_train, X_val, y_train, y_val = train_test_split(X, y, test_size=0.2, random_state=42)"
   ]
  },
  {
   "cell_type": "markdown",
   "metadata": {
    "id": "BfJVTqrCpn-8"
   },
   "source": [
    "**MODEL 1: Logistic Regression**"
   ]
  },
  {
   "cell_type": "code",
   "execution_count": 8,
   "metadata": {
    "colab": {
     "base_uri": "https://localhost:8080/"
    },
    "id": "f--lxRC1suvA",
    "outputId": "a68cf4de-848f-4a3a-b625-014cb910cfaa"
   },
   "outputs": [
    {
     "data": {
      "text/plain": [
       "LogisticRegression(C=1.0, class_weight=None, dual=False, fit_intercept=True,\n",
       "                   intercept_scaling=1, l1_ratio=None, max_iter=100,\n",
       "                   multi_class='auto', n_jobs=None, penalty='l2',\n",
       "                   random_state=None, solver='lbfgs', tol=0.0001, verbose=0,\n",
       "                   warm_start=False)"
      ]
     },
     "execution_count": 8,
     "metadata": {
      "tags": []
     },
     "output_type": "execute_result"
    }
   ],
   "source": [
    "from sklearn.linear_model import LogisticRegression\n",
    "\n",
    "logit_clf = LogisticRegression()\n",
    "logit_clf.fit(X_train, y_train)"
   ]
  },
  {
   "cell_type": "code",
   "execution_count": 9,
   "metadata": {
    "colab": {
     "base_uri": "https://localhost:8080/"
    },
    "id": "lOAMHI3AtFvY",
    "outputId": "ffc0ce45-e4f3-492f-c467-4422da764587"
   },
   "outputs": [
    {
     "name": "stdout",
     "output_type": "stream",
     "text": [
      "F1 score for logistic regression model: 0.13053493729203994\n",
      "Confusion matrix for LSTM:\n",
      "[[103460   2102]\n",
      " [ 14883   1275]]\n"
     ]
    }
   ],
   "source": [
    "y_pred = logit_clf.predict(X_val)\n",
    "from sklearn.metrics import f1_score, confusion_matrix\n",
    "\n",
    "print(f\"F1 score for logistic regression model: {f1_score(y_val,y_pred)}\")\n",
    "print(f\"Confusion matrix for LSTM:\")\n",
    "print(f\"{confusion_matrix(y_val,y_pred)}\")"
   ]
  },
  {
   "cell_type": "markdown",
   "metadata": {
    "id": "SSYtk5z6pn--"
   },
   "source": [
    "**MODEL 2: MLP Classifier**"
   ]
  },
  {
   "cell_type": "code",
   "execution_count": 10,
   "metadata": {
    "colab": {
     "base_uri": "https://localhost:8080/"
    },
    "id": "VrYftHOktgmK",
    "outputId": "80c639c9-fba9-4f16-cdc4-20037a744fe4"
   },
   "outputs": [
    {
     "name": "stderr",
     "output_type": "stream",
     "text": [
      "/usr/local/lib/python3.7/dist-packages/sklearn/neural_network/_multilayer_perceptron.py:571: ConvergenceWarning: Stochastic Optimizer: Maximum iterations (10) reached and the optimization hasn't converged yet.\n",
      "  % self.max_iter, ConvergenceWarning)\n"
     ]
    }
   ],
   "source": [
    "from sklearn.neural_network import MLPClassifier\n",
    "\n",
    "mlp_clf = MLPClassifier(random_state=1, max_iter=10).fit(X_train, y_train)"
   ]
  },
  {
   "cell_type": "code",
   "execution_count": 11,
   "metadata": {
    "colab": {
     "base_uri": "https://localhost:8080/"
    },
    "id": "010bLLWuuQV8",
    "outputId": "8103c6b9-07e2-47d9-e1fc-eefb413e2b20"
   },
   "outputs": [
    {
     "name": "stdout",
     "output_type": "stream",
     "text": [
      "F1 score for MLP model: 0.11400823392800594\n",
      "Confusion matrix for MLP:\n",
      "[[103854   1708]\n",
      " [ 15078   1080]]\n"
     ]
    }
   ],
   "source": [
    "y_pred_mlp = mlp_clf.predict(X_val)\n",
    "from sklearn.metrics import f1_score, confusion_matrix\n",
    "\n",
    "print(f\"F1 score for MLP model: {f1_score(y_val,y_pred_mlp)}\")\n",
    "print(f\"Confusion matrix for MLP:\")\n",
    "print(f\"{confusion_matrix(y_val,y_pred_mlp)}\")"
   ]
  },
  {
   "cell_type": "markdown",
   "metadata": {
    "id": "DjobKTNpuimj"
   },
   "source": [
    "**MODEL 3: Random Forests Classifier**"
   ]
  },
  {
   "cell_type": "code",
   "execution_count": 12,
   "metadata": {
    "collapsed": true,
    "id": "LWFR8jkFpn_A"
   },
   "outputs": [],
   "source": [
    "from sklearn.ensemble import RandomForestClassifier\n",
    "\n",
    "rf_clf = RandomForestClassifier(max_depth=10, random_state=0).fit(X_train, y_train)"
   ]
  },
  {
   "cell_type": "code",
   "execution_count": 13,
   "metadata": {
    "colab": {
     "base_uri": "https://localhost:8080/"
    },
    "id": "Sv5yJP8Ipn_B",
    "outputId": "0faf8269-5510-4a77-f390-3f920dbd78ac"
   },
   "outputs": [
    {
     "name": "stdout",
     "output_type": "stream",
     "text": [
      "F1 score for MLP model: 0.12352331606217616\n",
      "Confusion matrix for MLP:\n",
      "[[103612   1950]\n",
      " [ 14966   1192]]\n"
     ]
    }
   ],
   "source": [
    "y_pred_rf = rf_clf.predict(X_val)\n",
    "from sklearn.metrics import f1_score, confusion_matrix\n",
    "\n",
    "print(f\"F1 score for MLP model: {f1_score(y_val,y_pred_rf)}\")\n",
    "print(f\"Confusion matrix for MLP:\")\n",
    "print(f\"{confusion_matrix(y_val,y_pred_rf)}\")"
   ]
  },
  {
   "cell_type": "markdown",
   "metadata": {
    "id": "B4r5v2jGqqrQ"
   },
   "source": [
    "Overall, the three models do a decent job with the classification, especially given our current limitations of not having meaningful embeddings, and using naive methods for sentiment analysis. On finishing and applying BERT to these models, we definitely believe our results will have even more value."
   ]
  },
  {
   "cell_type": "code",
   "execution_count": null,
   "metadata": {
    "collapsed": true
   },
   "outputs": [],
   "source": []
  }
 ],
 "metadata": {
  "colab": {
   "name": "Combined_Modelling_and_Metrics.ipynb",
   "provenance": [],
   "toc_visible": true
  },
  "kernelspec": {
   "display_name": "Python 3",
   "language": "python",
   "name": "python3"
  },
  "language_info": {
   "codemirror_mode": {
    "name": "ipython",
    "version": 3
   },
   "file_extension": ".py",
   "mimetype": "text/x-python",
   "name": "python",
   "nbconvert_exporter": "python",
   "pygments_lexer": "ipython3",
   "version": "3.6.3"
  }
 },
 "nbformat": 4,
 "nbformat_minor": 1
}
